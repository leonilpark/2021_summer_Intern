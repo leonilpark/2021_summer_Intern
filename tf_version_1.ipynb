{
 "cells": [
  {
   "cell_type": "markdown",
   "id": "revised-footage",
   "metadata": {},
   "source": [
    "# For running inference on the TF-Hub module\n"
   ]
  },
  {
   "cell_type": "code",
   "execution_count": null,
   "id": "outer-bookmark",
   "metadata": {},
   "outputs": [],
   "source": [
    "import tensorflow as tf\n",
    "import tensorflow_hub as hub"
   ]
  },
  {
   "cell_type": "markdown",
   "id": "academic-bryan",
   "metadata": {},
   "source": [
    "# For downloading the image."
   ]
  },
  {
   "cell_type": "code",
   "execution_count": null,
   "id": "recovered-progressive",
   "metadata": {},
   "outputs": [],
   "source": [
    "import matplotlib.pyplot as plt\n",
    "import tempfile\n",
    "from six.moves.urllib.request import urlopen\n",
    "from six import BytesIO"
   ]
  },
  {
   "cell_type": "markdown",
   "id": "tracked-skill",
   "metadata": {},
   "source": [
    "# For drawing onto the image"
   ]
  },
  {
   "cell_type": "code",
   "execution_count": null,
   "id": "verbal-elephant",
   "metadata": {},
   "outputs": [],
   "source": [
    "!pip install Pillow"
   ]
  },
  {
   "cell_type": "code",
   "execution_count": null,
   "id": "valuable-billion",
   "metadata": {},
   "outputs": [],
   "source": [
    "import numpy as np\n",
    "from PIL import Image, ImageColor, ImageDraw, ImageFont, ImageOps"
   ]
  },
  {
   "cell_type": "markdown",
   "id": "alpine-villa",
   "metadata": {},
   "source": [
    "# For measuring the inference time."
   ]
  },
  {
   "cell_type": "code",
   "execution_count": null,
   "id": "asian-eating",
   "metadata": {},
   "outputs": [],
   "source": [
    "import time"
   ]
  },
  {
   "cell_type": "code",
   "execution_count": null,
   "id": "collected-startup",
   "metadata": {},
   "outputs": [],
   "source": [
    "print(tf.__version__)"
   ]
  },
  {
   "cell_type": "code",
   "execution_count": null,
   "id": "convenient-saudi",
   "metadata": {},
   "outputs": [],
   "source": [
    "print(tf.test.gpu_device_name())"
   ]
  },
  {
   "cell_type": "markdown",
   "id": "abandoned-delight",
   "metadata": {},
   "source": [
    "# Definition Function"
   ]
  },
  {
   "cell_type": "code",
   "execution_count": null,
   "id": "exotic-boston",
   "metadata": {},
   "outputs": [],
   "source": [
    "def display_image(image):\n",
    "    fig = plt.figure(figsize=(20,15))\n",
    "    plt.grid(False)\n",
    "    plt.imshow(image)\n",
    "    \n",
    "def download_and_resize_image(url,new_width=256,new_height=256,display=False):\n",
    "    _, filename = tempfile.mkstemp(suffix=\".jpg\")\n",
    "    response = urlopen(url)\n",
    "    image_data = response.read()\n",
    "    image_data = BytesIO(image_data)\n",
    "    pil_image = Image.open(image_data)\n",
    "    pil_image =ImageOps.fit(pil_image,(new_width,new_height),image.ANTIALIAS)\n",
    "    pil_image_rgb = pil_image.conver(\"RGB\")\n",
    "    pil_image_rgb.save(filename,format=\"JPEG\",quality=90)\n",
    "    print(\"Image downloaded to %s.\" %filename)\n",
    "    if disply:\n",
    "        display_image(pil_image)\n",
    "    return filename\n",
    "'''\n",
    "Aniti-aliasing이란?\n",
    "- 위신호 제거는 높은 해상도의 신호를 낮은해상도에서 나타낼때 생기는 계단 현상을 최소화하는 방법\n",
    "\n",
    "pil_image.save의 quality란?\n",
    "quality는 1부터 95까지의 숫자로 지정가능하며, defaultsms 75이다.\n",
    "95이상은 지양하며, 100으로 지정할경우 압축이 되지 않아 알고리즘이 작동하지 않고, 파일 또한 image quality를 얻기 힘들고, 용량이 크다\n",
    "'''\n",
    "\n",
    "def draw_bounding_box_on_image(image,\n",
    "                              ymin,\n",
    "                              xmin,\n",
    "                              ymax,\n",
    "                              xmax,\n",
    "                              color,\n",
    "                              font,\n",
    "                              thickness=4\n",
    "                              display_str_list=()):\n",
    "    #이미지에 bounding box를 그려넣는 과정\n",
    "    draw = ImageDraw.Draw(image)\n",
    "    im_width,im_height = image.size\n",
    "    (left,right,top,bottom) = (xmin*im_width, xmax*im_width,\n",
    "                              ymin*im_height,m xmax*im_height)\n",
    "    #크기를 1이라고 가정했을 경우 x or y 값이 소수점으로 지정될 경우 이미지의 상하좌우의 위치를 설정 가능하다.\n",
    "    draw.line([(left,top), (left,bottom),(right,bottom),(right,top),(left,top)],\n",
    "              width=thickness,\n",
    "              fill=color) #좌상 -> 좌하 -> 우하 -> 우상 -> 좌상으로 그리고 선의 길이는 두껍게, 컬러로 표시\n",
    "    \n",
    "    # 상단에 총 높이를 표시하고 싶을때아래의 코드 추가\n",
    "    # 만약 box가 기존 높이보다 초과될경우 박스에 경고문 추가\n",
    "    display_str_heigths = [font.getsize(ds)[1] for ds in display_str_list]\n",
    "    # 마진을 0.05x 만큼 표시\n",
    "    total_display_str_height = (1+2*0.05) * sum(display_str_heights)\n",
    "    \n",
    "    if top > total_display_str_height:\n",
    "        text_bottom = top\n",
    "    else :\n",
    "        text_bottom = top + total_display_str_height\n",
    "    \n",
    "    #이미지를 밑에서부터 위로 출력\n",
    "    for display_str in display_str_list[::-1]:\n",
    "        text_width, text_height = font.getsize(display_str)\n",
    "        margin = np.ceil(0.05 * text_height)\n",
    "        draw.rectangle([(left, text_bottom - text_height - 2 * margin),\n",
    "                        (left + text_width, text_bottom)],\n",
    "                       fill=color)\n",
    "        draw.text((left + margin, text_bottom - text_height - margin),\n",
    "                  display_str,\n",
    "                  fill=\"black\",\n",
    "                  font=font)\n",
    "        text_bottom -= text_height - 2 * margin\n",
    "        \n",
    "def draw_boxes(image, boxes, class_names, scores, max_boxes=10, min_score=0.1):\n",
    "    #detection된 object 표시하는 function\n",
    "    colors = list(ImageColor.colormap.values())\n",
    "    \n",
    "    try:\n",
    "        font = ImageFont.truetype(\"/usr/share/fonts/truetype/liberation/LiberationSansNarrow-Regular.ttf\",25)\n",
    "    except IOError:\n",
    "        print(\"Font not found, using default font.\")\n",
    "        font = ImageFont.load_default()\n",
    "    \n",
    "    for i in range(min(boxes.shape[0],max_boxes)):\n",
    "        if scores[i] >- min_score:\n",
    "            ymin, xmin, ymax, xmax = tuple(boxes[i])\n",
    "            display_str = \"{}: {}%\",format(class_name[i].decode(\"ascii\"),int(100*scores[i]))\n",
    "            color = colors[hash(class_names[i] % len(colors))]\n",
    "            image_pil = Image.fromarray(np.uint8(image)).convert(\"RGB\")\n",
    "            draw_bounding_box_on_image(\n",
    "            image_pil,\n",
    "            ymin,\n",
    "            xmin,\n",
    "            ymax,\n",
    "            xmax,\n",
    "            color,\n",
    "            font,\n",
    "            display_str_list=[display_str])\n",
    "            np.copyto(image,np.array(image_pil))\n",
    "            return image"
   ]
  },
  {
   "cell_type": "markdown",
   "id": "knowing-closer",
   "metadata": {},
   "source": [
    "# Using Module"
   ]
  },
  {
   "cell_type": "code",
   "execution_count": null,
   "id": "structured-stylus",
   "metadata": {},
   "outputs": [],
   "source": [
    "# By Heiko Gorski, Source: https://commons.wikimedia.org/wiki/File:Naxos_Taverna.jpg\n",
    "image_url = \"https://upload.wikimedia.org/wikipedia/commons/6/60/Naxos_Taverna.jpg\" \n",
    "downloaded_image_path = download_and_resize_image(image_url, 1280, 856, True)"
   ]
  },
  {
   "cell_type": "code",
   "execution_count": null,
   "id": "soviet-account",
   "metadata": {},
   "outputs": [],
   "source": [
    "# Using Resnet\n",
    "module_handle = \"https://tfhub.dev/google/faster_rcnn/openimages_v4/inception_resnet_v2/1\"\n",
    "\n",
    "detector = hub.load(module_handle).signatures['default']"
   ]
  },
  {
   "cell_type": "code",
   "execution_count": null,
   "id": "federal-sector",
   "metadata": {},
   "outputs": [],
   "source": [
    "# Load image\n",
    "def load_img(path):\n",
    "  img = tf.io.read_file(path)\n",
    "  img = tf.image.decode_jpeg(img, channels=3)\n",
    "  return img"
   ]
  },
  {
   "cell_type": "code",
   "execution_count": null,
   "id": "received-helping",
   "metadata": {},
   "outputs": [],
   "source": [
    "# Detector Running\n",
    "def run_detector(detector, path):\n",
    "  img = load_img(path)\n",
    "\n",
    "  converted_img  = tf.image.convert_image_dtype(img, tf.float32)[tf.newaxis, ...]\n",
    "  start_time = time.time()\n",
    "  result = detector(converted_img)\n",
    "  end_time = time.time()\n",
    "\n",
    "  result = {key:value.numpy() for key,value in result.items()}\n",
    "\n",
    "  print(\"Found %d objects.\" % len(result[\"detection_scores\"]))\n",
    "  print(\"Inference time: \", end_time-start_time)\n",
    "\n",
    "  image_with_boxes = draw_boxes(\n",
    "      img.numpy(), result[\"detection_boxes\"],\n",
    "      result[\"detection_class_entities\"], result[\"detection_scores\"])\n",
    "\n",
    "  display_image(image_with_boxes)"
   ]
  },
  {
   "cell_type": "code",
   "execution_count": null,
   "id": "fresh-amplifier",
   "metadata": {},
   "outputs": [],
   "source": [
    "run_detector(detector, downloaded_image_path)"
   ]
  },
  {
   "cell_type": "code",
   "execution_count": null,
   "id": "amber-adult",
   "metadata": {},
   "outputs": [],
   "source": []
  }
 ],
 "metadata": {
  "kernelspec": {
   "display_name": "Python 3",
   "language": "python",
   "name": "python3"
  },
  "language_info": {
   "codemirror_mode": {
    "name": "ipython",
    "version": 3
   },
   "file_extension": ".py",
   "mimetype": "text/x-python",
   "name": "python",
   "nbconvert_exporter": "python",
   "pygments_lexer": "ipython3",
   "version": "3.6.9"
  }
 },
 "nbformat": 4,
 "nbformat_minor": 5
}
